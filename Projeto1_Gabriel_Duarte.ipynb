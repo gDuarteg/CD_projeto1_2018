{
 "cells": [
  {
   "cell_type": "markdown",
   "metadata": {},
   "source": [
    "# Gabriel Duarte \n",
    "\n",
    "# Eng 2a Ciencia dos dados"
   ]
  },
  {
   "cell_type": "markdown",
   "metadata": {},
   "source": [
    "# Introdução:\n",
    "    \n",
    "        Esse trabalho tem como objetivo comparar duas base de dados com o IDH (Índice de Desenvolvimento Humano) de diversos paises, e por meio do dicionário \"pandas\" para python separar, organizar e analisar os dados obtidos. Foi escolhido então porcentagem de estradas pavimentas e quantidade de energia gerada pensando que seria uma infraestrutura que estaria relacionada a um local com tecnologias para facilidade para as pessoas e empresas afetando então o IDH."
   ]
  },
  {
   "cell_type": "markdown",
   "metadata": {},
   "source": [
    "# Pergunta:\n",
    "    Um local com um alto IDH tem relação com um pais ter uma melhor infraestrutura no transporte e na geração de energia?"
   ]
  },
  {
   "cell_type": "code",
   "execution_count": 90,
   "metadata": {},
   "outputs": [],
   "source": [
    "import pandas as pd\n",
    "import matplotlib.pyplot as plt\n",
    "import numpy as np\n",
    "import seaborn as sns\n",
    "%matplotlib inline\n",
    "\n",
    "dh = pd.read_excel('Indicator_HDI.xlsx')\n",
    "de = pd.read_excel('Electricity Generation.xlsx')\n",
    "dr = pd.read_excel('roads paved.xlsx')"
   ]
  },
  {
   "cell_type": "code",
   "execution_count": 91,
   "metadata": {},
   "outputs": [],
   "source": [
    "# Loc\n",
    "idh_2005 = dh.loc[:,[\"HDI\",2005]]\n",
    "energia_2005 = de.loc[:,[\"Electricity generation total (kilowatt-hours)\",2005]]\n",
    "estrada_2005 = dr.loc[:,[\"Roads, paved (% of total roads)\",\"2005\"]]"
   ]
  },
  {
   "cell_type": "code",
   "execution_count": 92,
   "metadata": {},
   "outputs": [],
   "source": [
    "# set_index\n",
    "a_idh = idh_2005.set_index(\"HDI\")\n",
    "a_energia = energia_2005.set_index(\"Electricity generation total (kilowatt-hours)\")\n",
    "a_estrada = estrada_2005.set_index(\"Roads, paved (% of total roads)\")"
   ]
  },
  {
   "cell_type": "code",
   "execution_count": 93,
   "metadata": {},
   "outputs": [],
   "source": [
    "# join\n",
    "j_EA = a_energia.join(a_estrada, how=\"inner\",lsuffix=\" energia\",rsuffix=' estrada' )\n",
    "J_T = a_idh.join(j_EA, how='inner',lsuffix=' HDI',rsuffix=' Energia Gerada')\n",
    "J_T.columns=[\"2005 HDI\",\"2005 Energia Gerada\",\"2005 Estradas pavimentadas [%]\"]\n",
    "J_T.to_csv(\"Projeto_dados.csv\")"
   ]
  },
  {
   "cell_type": "code",
   "execution_count": 94,
   "metadata": {
    "scrolled": true
   },
   "outputs": [
    {
     "data": {
      "text/html": [
       "<div>\n",
       "<style scoped>\n",
       "    .dataframe tbody tr th:only-of-type {\n",
       "        vertical-align: middle;\n",
       "    }\n",
       "\n",
       "    .dataframe tbody tr th {\n",
       "        vertical-align: top;\n",
       "    }\n",
       "\n",
       "    .dataframe thead th {\n",
       "        text-align: right;\n",
       "    }\n",
       "</style>\n",
       "<table border=\"1\" class=\"dataframe\">\n",
       "  <thead>\n",
       "    <tr style=\"text-align: right;\">\n",
       "      <th></th>\n",
       "      <th>2005 HDI</th>\n",
       "      <th>2005 Energia Gerada</th>\n",
       "      <th>2005 Estradas pavimentadas [%]</th>\n",
       "    </tr>\n",
       "  </thead>\n",
       "  <tbody>\n",
       "    <tr>\n",
       "      <th>Austria</th>\n",
       "      <td>0.860</td>\n",
       "      <td>60632000000</td>\n",
       "      <td>100.000000</td>\n",
       "    </tr>\n",
       "    <tr>\n",
       "      <th>Belarus</th>\n",
       "      <td>0.723</td>\n",
       "      <td>30961000000</td>\n",
       "      <td>88.639999</td>\n",
       "    </tr>\n",
       "    <tr>\n",
       "      <th>Bulgaria</th>\n",
       "      <td>0.749</td>\n",
       "      <td>44365000000</td>\n",
       "      <td>98.400002</td>\n",
       "    </tr>\n",
       "    <tr>\n",
       "      <th>Chile</th>\n",
       "      <td>0.779</td>\n",
       "      <td>54483000000</td>\n",
       "      <td>21.038000</td>\n",
       "    </tr>\n",
       "    <tr>\n",
       "      <th>China</th>\n",
       "      <td>0.633</td>\n",
       "      <td>2500260000000</td>\n",
       "      <td>40.799999</td>\n",
       "    </tr>\n",
       "  </tbody>\n",
       "</table>\n",
       "</div>"
      ],
      "text/plain": [
       "          2005 HDI  2005 Energia Gerada  2005 Estradas pavimentadas [%]\n",
       "Austria      0.860          60632000000                      100.000000\n",
       "Belarus      0.723          30961000000                       88.639999\n",
       "Bulgaria     0.749          44365000000                       98.400002\n",
       "Chile        0.779          54483000000                       21.038000\n",
       "China        0.633        2500260000000                       40.799999"
      ]
     },
     "execution_count": 94,
     "metadata": {},
     "output_type": "execute_result"
    }
   ],
   "source": [
    "J_T.to_csv(\"Projeto_dados.csv\")\n",
    "data = J_T.dropna()\n",
    "data.head()"
   ]
  },
  {
   "cell_type": "code",
   "execution_count": 95,
   "metadata": {
    "scrolled": false
   },
   "outputs": [
    {
     "data": {
      "image/png": "[encoded data removed]",
      "text/plain": [
       "<matplotlib.figure.Figure at 0x2066a7f0f28>"
      ]
     },
     "metadata": {},
     "output_type": "display_data"
    },
    {
     "data": {
      "image/png": "[encoded data removed]",
      "text/plain": [
       "<matplotlib.figure.Figure at 0x2066be26898>"
      ]
     },
     "metadata": {},
     "output_type": "display_data"
    },
    {
     "data": {
      "text/plain": [
       "count    28.000000\n",
       "mean      0.787786\n",
       "std       0.105030\n",
       "min       0.504000\n",
       "25%       0.724500\n",
       "50%       0.801500\n",
       "75%       0.877500\n",
       "max       0.902000\n",
       "Name: 2005 HDI, dtype: float64"
      ]
     },
     "execution_count": 95,
     "metadata": {},
     "output_type": "execute_result"
    }
   ],
   "source": [
    "data[\"2005 HDI\"].plot.hist()\n",
    "plt.suptitle(\"HDI\")\n",
    "plt.show()\n",
    "data[\"2005 HDI\"].plot.box()\n",
    "plt.show()\n",
    "data[\"2005 HDI\"].describe()"
   ]
  },
  {
   "cell_type": "markdown",
   "metadata": {},
   "source": [
    "Analisando os primeiros graficos sobre o IDH, percebemos que eles não estão simetricos, por causa principalmente de muitos paises menores não terem as bases de dados das outras variaveis e para comparalos foi cortado os paises que não tinham as três variaveis."
   ]
  },
  {
   "cell_type": "code",
   "execution_count": 96,
   "metadata": {},
   "outputs": [
    {
     "data": {
      "image/png": "[encoded data removed]",
      "text/plain": [
       "<matplotlib.figure.Figure at 0x2066bd95b00>"
      ]
     },
     "metadata": {},
     "output_type": "display_data"
    },
    {
     "data": {
      "image/png": "[encoded data removed]",
      "text/plain": [
       "<matplotlib.figure.Figure at 0x2066bf60b00>"
      ]
     },
     "metadata": {},
     "output_type": "display_data"
    },
    {
     "data": {
      "text/plain": [
       "count    2.800000e+01\n",
       "mean     4.404265e+11\n",
       "std      9.103414e+11\n",
       "min      8.680000e+09\n",
       "25%      4.183583e+10\n",
       "50%      9.880800e+10\n",
       "75%      2.743982e+11\n",
       "max      4.257369e+12\n",
       "Name: 2005 Energia Gerada, dtype: float64"
      ]
     },
     "execution_count": 96,
     "metadata": {},
     "output_type": "execute_result"
    }
   ],
   "source": [
    "data[\"2005 Energia Gerada\"].plot.hist()\n",
    "plt.suptitle(\"Energia Gerada\")\n",
    "plt.show()\n",
    "data[\"2005 Energia Gerada\"].plot.box()\n",
    "plt.show()\n",
    "data[\"2005 Energia Gerada\"].describe()"
   ]
  },
  {
   "cell_type": "markdown",
   "metadata": {},
   "source": [
    "Nos gráficos de energia gerada temos a maioria dos paises numa mesma faixa, e alguns pontos fora do padrão, talvez por varios desses paises listados serem de uma mesma região, principalmete da Europa, e usarem os mesmos métodos para coleta da energia. "
   ]
  },
  {
   "cell_type": "code",
   "execution_count": 97,
   "metadata": {},
   "outputs": [
    {
     "data": {
      "image/png": "[encoded data removed]",
      "text/plain": [
       "<matplotlib.figure.Figure at 0x2066bdcbeb8>"
      ]
     },
     "metadata": {},
     "output_type": "display_data"
    },
    {
     "data": {
      "image/png": "[encoded data removed]",
      "text/plain": [
       "<matplotlib.figure.Figure at 0x2066bfba0f0>"
      ]
     },
     "metadata": {},
     "output_type": "display_data"
    },
    {
     "data": {
      "text/plain": [
       "count     28.000000\n",
       "mean      70.597682\n",
       "std       27.998031\n",
       "min       21.038000\n",
       "25%       45.442500\n",
       "50%       75.012158\n",
       "75%       98.800001\n",
       "max      100.000000\n",
       "Name: 2005 Estradas pavimentadas [%], dtype: float64"
      ]
     },
     "execution_count": 97,
     "metadata": {},
     "output_type": "execute_result"
    }
   ],
   "source": [
    "data[\"2005 Estradas pavimentadas [%]\"].plot.hist()\n",
    "plt.suptitle(\"Estradas pavimentadas[%]\")\n",
    "plt.show()\n",
    "data[\"2005 Estradas pavimentadas [%]\"].plot.box()\n",
    "plt.show()\n",
    "data[\"2005 Estradas pavimentadas [%]\"].describe()"
   ]
  },
  {
   "cell_type": "markdown",
   "metadata": {},
   "source": [
    "Observando os gráficos da porcentagem de pavimentação, podemos reparar que esta bem distribuido, acho que seria mais ligado ao terreno e o tamanho do pais, alterando fortemente a dificuldade de pavimentação completa."
   ]
  },
  {
   "cell_type": "code",
   "execution_count": 99,
   "metadata": {
    "scrolled": true
   },
   "outputs": [
    {
     "data": {
      "image/png": "[encoded data removed]",
      "text/plain": [
       "<matplotlib.figure.Figure at 0x2066bf96be0>"
      ]
     },
     "metadata": {},
     "output_type": "display_data"
    }
   ],
   "source": [
    "sns.regplot(data[\"2005 HDI\"],data[\"2005 Estradas pavimentadas [%]\"]);"
   ]
  },
  {
   "cell_type": "markdown",
   "metadata": {},
   "source": [
    "correlação = 0.236798\n"
   ]
  },
  {
   "cell_type": "code",
   "execution_count": 100,
   "metadata": {},
   "outputs": [
    {
     "data": {
      "image/png": "[encoded data removed]",
      "text/plain": [
       "<matplotlib.figure.Figure at 0x20668314518>"
      ]
     },
     "metadata": {},
     "output_type": "display_data"
    }
   ],
   "source": [
    "sns.regplot(data[\"2005 HDI\"],data[\"2005 Energia Gerada\"]);"
   ]
  },
  {
   "cell_type": "markdown",
   "metadata": {},
   "source": [
    "correlação = -0.006634\n"
   ]
  },
  {
   "cell_type": "code",
   "execution_count": 101,
   "metadata": {},
   "outputs": [
    {
     "data": {
      "text/html": [
       "<div>\n",
       "<style scoped>\n",
       "    .dataframe tbody tr th:only-of-type {\n",
       "        vertical-align: middle;\n",
       "    }\n",
       "\n",
       "    .dataframe tbody tr th {\n",
       "        vertical-align: top;\n",
       "    }\n",
       "\n",
       "    .dataframe thead th {\n",
       "        text-align: right;\n",
       "    }\n",
       "</style>\n",
       "<table border=\"1\" class=\"dataframe\">\n",
       "  <thead>\n",
       "    <tr style=\"text-align: right;\">\n",
       "      <th></th>\n",
       "      <th>2005 HDI</th>\n",
       "      <th>2005 Energia Gerada</th>\n",
       "      <th>2005 Estradas pavimentadas [%]</th>\n",
       "    </tr>\n",
       "  </thead>\n",
       "  <tbody>\n",
       "    <tr>\n",
       "      <th>2005 HDI</th>\n",
       "      <td>1.000000</td>\n",
       "      <td>-0.006634</td>\n",
       "      <td>0.236798</td>\n",
       "    </tr>\n",
       "    <tr>\n",
       "      <th>2005 Energia Gerada</th>\n",
       "      <td>-0.006634</td>\n",
       "      <td>1.000000</td>\n",
       "      <td>-0.110663</td>\n",
       "    </tr>\n",
       "    <tr>\n",
       "      <th>2005 Estradas pavimentadas [%]</th>\n",
       "      <td>0.236798</td>\n",
       "      <td>-0.110663</td>\n",
       "      <td>1.000000</td>\n",
       "    </tr>\n",
       "  </tbody>\n",
       "</table>\n",
       "</div>"
      ],
      "text/plain": [
       "                                2005 HDI  2005 Energia Gerada  \\\n",
       "2005 HDI                        1.000000            -0.006634   \n",
       "2005 Energia Gerada            -0.006634             1.000000   \n",
       "2005 Estradas pavimentadas [%]  0.236798            -0.110663   \n",
       "\n",
       "                                2005 Estradas pavimentadas [%]  \n",
       "2005 HDI                                              0.236798  \n",
       "2005 Energia Gerada                                  -0.110663  \n",
       "2005 Estradas pavimentadas [%]                        1.000000  "
      ]
     },
     "execution_count": 101,
     "metadata": {},
     "output_type": "execute_result"
    }
   ],
   "source": [
    "data.corr()"
   ]
  },
  {
   "cell_type": "markdown",
   "metadata": {},
   "source": [
    "# Conclusão:\n",
    "    Em um contexto geral podemos concluir que o IDH não tem uma relação com as outras duas variaves. Muito provavelmente não teve um resultado próximo do real por ter poucos paises,e a maioria deles terem um IDH alto para se formular uma regra  geral e por incluir apenas um pais do hemisfério sul, o Chile.\n",
    "    \n",
    "    As variaveis escolhidas parecem ser afetadas por outros diversos fatores, deixando a correlação com o IDH, se existir,   bem baixa em comparação a outros.  \n",
    "    \n",
    "    \n",
    "    "
   ]
  }
 ],
 "metadata": {
  "kernelspec": {
   "display_name": "Python 3",
   "language": "python",
   "name": "python3"
  },
  "language_info": {
   "codemirror_mode": {
    "name": "ipython",
    "version": 3
   },
   "file_extension": ".py",
   "mimetype": "text/x-python",
   "name": "python",
   "nbconvert_exporter": "python",
   "pygments_lexer": "ipython3",
   "version": "3.6.4"
  }
 },
 "nbformat": 4,
 "nbformat_minor": 2
}
